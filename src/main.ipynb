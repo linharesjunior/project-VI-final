{
 "cells": [
  {
   "cell_type": "code",
   "execution_count": 11,
   "id": "73d41aca",
   "metadata": {},
   "outputs": [],
   "source": [
    "import pandas as pd\n",
    "from selenium import webdriver\n",
    "from selenium.webdriver.common.keys import Keys\n",
    "from selenium.webdriver.common.by import By\n",
    "from selenium.webdriver.support.ui import WebDriverWait\n",
    "from selenium.webdriver.support import expected_conditions as EC\n",
    "from selenium import webdriver\n",
    "from selenium.webdriver.support.ui import Select\n",
    "from selenium import webdriver\n",
    "\n",
    "\n",
    "from nltk.sentiment.vader import SentimentIntensityAnalyzer\n",
    "from bs4 import BeautifulSoup\n",
    "\n",
    "from dotenv import load_dotenv\n",
    "load_dotenv()\n",
    "import requests\n",
    "import getpass\n"
   ]
  },
  {
   "cell_type": "code",
   "execution_count": 2,
   "id": "01631167",
   "metadata": {},
   "outputs": [],
   "source": [
    "df = pd.read_csv(\"../data/tech_layoffs.csv\")"
   ]
  },
  {
   "cell_type": "code",
   "execution_count": 86,
   "id": "abdcf7cd",
   "metadata": {},
   "outputs": [
    {
     "data": {
      "text/plain": [
       "total_layoffs\n",
       "Unclear    182\n",
       "100         17\n",
       "30          12\n",
       "40          11\n",
       "150          8\n",
       "          ... \n",
       "111          1\n",
       "5000         1\n",
       "64           1\n",
       "262          1\n",
       "9090         1\n",
       "Name: count, Length: 150, dtype: int64"
      ]
     },
     "execution_count": 86,
     "metadata": {},
     "output_type": "execute_result"
    }
   ],
   "source": [
    "df['total_layoffs'].value_counts()"
   ]
  },
  {
   "cell_type": "code",
   "execution_count": 4,
   "id": "55a35833",
   "metadata": {},
   "outputs": [],
   "source": [
    "#url = \"https://layoffs.fyi/\"\n",
    "#response = requests.get(url)\n",
    "#response"
   ]
  },
  {
   "cell_type": "code",
   "execution_count": 5,
   "id": "ebc7bc28",
   "metadata": {},
   "outputs": [],
   "source": [
    "#response = requests.get(url)\n",
    "#soup = BeautifulSoup(response.content, \"html.parser\")"
   ]
  },
  {
   "cell_type": "code",
   "execution_count": 6,
   "id": "56966e51",
   "metadata": {},
   "outputs": [],
   "source": [
    "#layoff = soup.find(\"div\", {\"class\":\"dataLeftPane pane no-events-when-cell-selection-disabled\"})\n",
    "#layoff"
   ]
  },
  {
   "cell_type": "code",
   "execution_count": 7,
   "id": "10466ccb",
   "metadata": {},
   "outputs": [],
   "source": [
    "# <div id=“viewContainer” class=“overflow-hidden relative”>\n",
    "# <div id=“flex-auto flex flex-column height-full”>\n",
    "# <div id=“view” class=\"overflow-hidden relative flex-auto height-full”>\n",
    "# <div class=\"headerAndDataRowContainer”>\n",
    "# <div class=\"gridView baymax groupLevel1 rowHeight1 rowExpansionEnabled rowSelectionEnabled isShowingSummaryBar”>\n",
    "# <div class=\"paneContainer isHorizontallyScrolled”>"
   ]
  },
  {
   "cell_type": "code",
   "execution_count": null,
   "id": "993dbd04",
   "metadata": {},
   "outputs": [],
   "source": []
  },
  {
   "cell_type": "code",
   "execution_count": 10,
   "id": "8a956b04",
   "metadata": {},
   "outputs": [],
   "source": [
    "url = \"https://www.linkedin.com/feed/\""
   ]
  },
  {
   "cell_type": "code",
   "execution_count": 9,
   "id": "a31cfd12",
   "metadata": {},
   "outputs": [],
   "source": [
    "driver = webdriver.Chrome()"
   ]
  },
  {
   "cell_type": "code",
   "execution_count": null,
   "id": "f1563d5c",
   "metadata": {},
   "outputs": [],
   "source": [
    "driver.get(url)"
   ]
  },
  {
   "cell_type": "code",
   "execution_count": null,
   "id": "a8a4a6b1",
   "metadata": {},
   "outputs": [],
   "source": [
    "email_box = driver.find_element(By.ID, \"email-address\")\n",
    "print(email_box)"
   ]
  },
  {
   "cell_type": "code",
   "execution_count": 69,
   "id": "7e45112e",
   "metadata": {},
   "outputs": [],
   "source": [
    "from selenium import webdriver\n",
    "from selenium.webdriver.common.keys import Keys\n",
    "from selenium.webdriver.support.ui import WebDriverWait\n",
    "from selenium.webdriver.support import expected_conditions as EC\n",
    "from selenium.webdriver.common.by import By\n",
    "import os\n",
    "import time\n",
    "from dotenv import load_dotenv\n",
    "load_dotenv()\n",
    "\n",
    "driver = webdriver.Chrome()\n",
    "\n",
    "# Increase the implicit wait time to 20 seconds\n",
    "driver.implicitly_wait(20)\n",
    "\n",
    "# Navigate to LinkedIn\n",
    "driver.get(\"https://www.linkedin.com\")\n",
    "\n",
    "# Locate and fill in the login fields\n",
    "username = driver.find_element(By.ID, \"session_key\")\n",
    "password_input = driver.find_element(By.ID, \"session_password\")\n",
    "\n",
    "# Retrieve email and password from environment variables\n",
    "email = os.getenv(\"email\")\n",
    "password = os.getenv(\"password\")\n",
    "\n",
    "username.send_keys(email)\n",
    "password_input.send_keys(password)\n",
    "password_input.send_keys(Keys.RETURN)\n",
    "\n",
    "time.sleep(2)\n",
    "\n",
    "# Wait for the search bar to be present on the page\n",
    "search_bar = driver.find_element(By.XPATH, \"/html/body/div[6]/header/div/div/div/div[1]/input\")\n",
    "\n",
    "# Clear any existing text in the search bar\n",
    "search_bar.clear()\n",
    "\n",
    "# Search for \"#layoff\"\n",
    "search_bar.send_keys(\"#layoff\")\n",
    "search_bar.send_keys(Keys.RETURN)\n",
    "\n",
    "time.sleep(5)\n",
    "\n",
    "# Select the filter Posts\n",
    "try:\n",
    "    posts_filter = driver.find_element(By.XPATH, \"//button[text()='Posts']\")\n",
    "    posts_filter.click()\n",
    "except Exception as e:\n",
    "    print(f\"Error clicking on the 'Posts' filter: {e}\")\n",
    "    \n",
    "# Scroll down the page to load more content\n",
    "for _ in range(3):\n",
    "    driver.execute_script(\"window.scrollTo(0, document.body.scrollHeight);\")\n",
    "    time.sleep(2)\n",
    "    \n",
    "# Extract data from posts\n",
    "post_data = []\n",
    "try:\n",
    "    posts = driver.find_elements(By.XPATH, \"//li[contains(@class, 'search-result__occluded-item')]\")\n",
    "    for post in posts:\n",
    "        post_text = post.text\n",
    "        post_data.append({\"Post Text\": post_text})\n",
    "except Exception as e:\n",
    "    print(f\"Error extracting post data: {e}\")\n",
    "\n",
    "# Create a DataFrame\n",
    "linkedin = pd.DataFrame(post_data)"
   ]
  },
  {
   "cell_type": "code",
   "execution_count": 70,
   "id": "4d632497",
   "metadata": {},
   "outputs": [
    {
     "data": {
      "text/html": [
       "<div>\n",
       "<style scoped>\n",
       "    .dataframe tbody tr th:only-of-type {\n",
       "        vertical-align: middle;\n",
       "    }\n",
       "\n",
       "    .dataframe tbody tr th {\n",
       "        vertical-align: top;\n",
       "    }\n",
       "\n",
       "    .dataframe thead th {\n",
       "        text-align: right;\n",
       "    }\n",
       "</style>\n",
       "<table border=\"1\" class=\"dataframe\">\n",
       "  <thead>\n",
       "    <tr style=\"text-align: right;\">\n",
       "      <th></th>\n",
       "    </tr>\n",
       "  </thead>\n",
       "  <tbody>\n",
       "  </tbody>\n",
       "</table>\n",
       "</div>"
      ],
      "text/plain": [
       "Empty DataFrame\n",
       "Columns: []\n",
       "Index: []"
      ]
     },
     "execution_count": 70,
     "metadata": {},
     "output_type": "execute_result"
    }
   ],
   "source": [
    "linkedin"
   ]
  },
  {
   "cell_type": "code",
   "execution_count": 96,
   "id": "556a85cc",
   "metadata": {},
   "outputs": [],
   "source": [
    "layoff = pd.read_excel(\"/Users/juniorlinhares/Desktop/LayoffsTracker_1.xlsx\", header=0)"
   ]
  },
  {
   "cell_type": "code",
   "execution_count": 97,
   "id": "c80276d1",
   "metadata": {},
   "outputs": [
    {
     "data": {
      "text/plain": [
       "Index(['Grid view', 'Unnamed: 1', 'Unnamed: 2', 'Unnamed: 3', 'Unnamed: 4',\n",
       "       'Unnamed: 5', 'Unnamed: 6', 'Unnamed: 7', 'Unnamed: 8', 'Unnamed: 9',\n",
       "       'Unnamed: 10', 'Unnamed: 11'],\n",
       "      dtype='object')"
      ]
     },
     "execution_count": 97,
     "metadata": {},
     "output_type": "execute_result"
    }
   ],
   "source": [
    "layoff.columns"
   ]
  },
  {
   "cell_type": "code",
   "execution_count": null,
   "id": "e1e1ddcc",
   "metadata": {},
   "outputs": [],
   "source": []
  }
 ],
 "metadata": {
  "kernelspec": {
   "display_name": "ironhack",
   "language": "python",
   "name": "ironhack"
  },
  "language_info": {
   "codemirror_mode": {
    "name": "ipython",
    "version": 3
   },
   "file_extension": ".py",
   "mimetype": "text/x-python",
   "name": "python",
   "nbconvert_exporter": "python",
   "pygments_lexer": "ipython3",
   "version": "3.11.5"
  }
 },
 "nbformat": 4,
 "nbformat_minor": 5
}
